{
 "cells": [
  {
   "cell_type": "code",
   "execution_count": 2,
   "id": "c50b6f90-4d08-41cd-983e-07ab895aaea0",
   "metadata": {},
   "outputs": [],
   "source": [
    "import sympy as sy"
   ]
  },
  {
   "cell_type": "code",
   "execution_count": 3,
   "id": "991f9cf3-06a2-48ad-9d47-ce6bb95ffef2",
   "metadata": {},
   "outputs": [],
   "source": [
    "R0 = sy.symbols(\"R_0\")\n",
    "s = sy.symbols(\"s\")\n",
    "r = sy.symbols(\"r\")\n",
    "t = sy.symbols(\"t\")\n",
    "s0 = sy.symbols(\"s_0\")\n",
    "e = sy.symbols(\"epsilon\")\n",
    "z = sy.symbols(\"z\")"
   ]
  },
  {
   "cell_type": "code",
   "execution_count": 46,
   "id": "ccd79a2e-b2e6-4a64-a8f8-f471e2e8f76a",
   "metadata": {},
   "outputs": [
    {
     "data": {
      "text/plain": [
       "[s_0*(R_0**2*r**2 - R_0*r*sqrt(R_0**2*r**2 + 4) + 2)/2,\n",
       " s_0*(R_0**2*r**2 + R_0*r*sqrt(R_0**2*r**2 + 4) + 2)/2]"
      ]
     },
     "execution_count": 46,
     "metadata": {},
     "output_type": "execute_result"
    }
   ],
   "source": [
    "sy.solve(sy.Eq(r, (1/sy.sqrt(s/s0) - sy.sqrt(s/s0))/R0), s)"
   ]
  },
  {
   "cell_type": "code",
   "execution_count": 145,
   "id": "e7b896fd-357c-4343-b254-f4df6f794caf",
   "metadata": {},
   "outputs": [
    {
     "data": {
      "text/latex": [
       "$\\displaystyle \\frac{s_{0} \\left(R_{0}^{2} r^{2} - R_{0} r \\sqrt{R_{0}^{2} r^{2} + 4} + 2\\right)}{2}$"
      ],
      "text/plain": [
       "s_0*(R_0**2*r**2 - R_0*r*sqrt(R_0**2*r**2 + 4) + 2)/2"
      ]
     },
     "execution_count": 145,
     "metadata": {},
     "output_type": "execute_result"
    }
   ],
   "source": [
    "sminus = s0*(R0**2*r**2 - R0*r*sy.sqrt(R0**2*r**2 + 4) + 2)/2\n",
    "sminus"
   ]
  },
  {
   "cell_type": "code",
   "execution_count": 82,
   "id": "0b227a93-d1c0-4346-9c10-d0e67b65a428",
   "metadata": {},
   "outputs": [
    {
     "data": {
      "text/latex": [
       "$\\displaystyle 1 + r \\left(- R_{0} \\epsilon + R_{0}\\right) - \\epsilon + O\\left(r^{2}\\right)$"
      ],
      "text/plain": [
       "1 + r*(-R_0*epsilon + R_0) - epsilon + O(r**2)"
      ]
     },
     "execution_count": 82,
     "metadata": {},
     "output_type": "execute_result"
    }
   ],
   "source": [
    "sy.series(sminus,r,0,2)"
   ]
  },
  {
   "cell_type": "code",
   "execution_count": 147,
   "id": "c3bc7999-d71c-4016-bde9-ff56c8c6e9ff",
   "metadata": {},
   "outputs": [
    {
     "data": {
      "text/latex": [
       "$\\displaystyle \\int\\limits^{r{\\left(t \\right)}} \\frac{1}{y^{2} R_{0}^{2} s_{0} - y R_{0} s_{0} \\sqrt{y^{2} R_{0}^{2} + 4} + 2 y + 2 s_{0} - 2}\\, dy = - \\frac{t}{2} + \\int\\limits^{0} \\frac{1}{y^{2} R_{0}^{2} s_{0} - y R_{0} s_{0} \\sqrt{y^{2} R_{0}^{2} + 4} + 2 y + 2 s_{0} - 2}\\, dy$"
      ],
      "text/plain": [
       "Eq(Integral(1/(_y**2*R_0**2*s_0 - _y*R_0*s_0*sqrt(_y**2*R_0**2 + 4) + 2*_y + 2*s_0 - 2), (_y, r(t))), -t/2 + Integral(1/(_y**2*R_0**2*s_0 - _y*R_0*s_0*sqrt(_y**2*R_0**2 + 4) + 2*_y + 2*s_0 - 2), (_y, 0)))"
      ]
     },
     "execution_count": 147,
     "metadata": {},
     "output_type": "execute_result"
    }
   ],
   "source": [
    "r = sy.Function('r')\n",
    "a = sy.dsolve(sy.Eq(sy.Derivative(r(t), t),1-r(t)-s0*(R0**2*r(t)**2 - R0*r(t)*sy.sqrt(R0**2*r(t)**2 + 4) + 2)/2 ),\n",
    "             ics={r(0): 0})\n",
    "a"
   ]
  },
  {
   "cell_type": "code",
   "execution_count": 37,
   "id": "48f5aa86-aa13-41c3-9b57-27277c3c5083",
   "metadata": {},
   "outputs": [
    {
     "data": {
      "text/latex": [
       "$\\displaystyle - \\frac{R_{0}^{2} r^{2}{\\left(t \\right)}}{2} + \\frac{R_{0} \\sqrt{R_{0}^{2} r^{2}{\\left(t \\right)} + 4} r{\\left(t \\right)}}{2} - r{\\left(t \\right)}$"
      ],
      "text/plain": [
       "-R_0**2*r(t)**2/2 + R_0*sqrt(R_0**2*r(t)**2 + 4)*r(t)/2 - r(t)"
      ]
     },
     "execution_count": 37,
     "metadata": {},
     "output_type": "execute_result"
    }
   ],
   "source": [
    "(1-(R0**2*r(t)**2/2 - R0*r(t)*sy.sqrt(R0**2*r(t)**2 + 4)/2 + 1) - r(t))"
   ]
  },
  {
   "cell_type": "code",
   "execution_count": 48,
   "id": "cd3badb4-be6d-44d1-90c1-6dcd9206149c",
   "metadata": {},
   "outputs": [],
   "source": [
    "import numpy as np\n",
    "\n",
    "def numpy_equation(c_1, R_0, r_t):\n",
    "    term1 = 2 * R_0 * np.log(r_t)\n",
    "    term2 = -2 * R_0 * np.log(np.sqrt(R_0**2 * r_t**2 + 4) + 2)\n",
    "    term3 = -2 * (R_0**2 + 1) * np.log(R_0**2 * (r_t - 1) + 1)\n",
    "    term4 = (R_0**2 + 1) * np.log(\n",
    "        R_0**3 * r_t + R_0**2 * np.sqrt(R_0**2 * r_t**2 + 4) - R_0 * (r_t - 4) + np.sqrt(R_0**2 * r_t**2 + 4)\n",
    "    )\n",
    "    term5 = -(R_0**2 - 1) * np.arcsinh(1 / (2 * R_0 * r_t))\n",
    "    term6 = 2 * np.log(r_t)\n",
    "\n",
    "    numerator = term1 + term2 + term3 + term4 + term5 + term6\n",
    "    denominator = 4 * (1 - R_0**2)\n",
    "\n",
    "    return c_1 - 2*numerator / denominator\n",
    "\n",
    "def sympy_rhs_equation():\n",
    "    c_1, t, R_0, r_t = sy.symbols(\"c_1 t R_0 r_t\")\n",
    "    term1 = 2 * R_0 * sy.log(r_t)\n",
    "    term2 = -2 * R_0 * sy.log(sy.sqrt(R_0**2 * r_t**2 + 4) + 2)\n",
    "    term3 = -2 * (R_0**2 + 1) * sy.log(R_0**2 * (r_t - 1) + 1)\n",
    "    term4 = (R_0**2 + 1) * sy.log(\n",
    "        R_0**3 * r_t + R_0**2 * sy.sqrt(R_0**2 * r_t**2 + 4) - R_0 * (r_t - 4) + sy.sqrt(R_0**2 * r_t**2 + 4)\n",
    "    )\n",
    "    term5 = -(R_0**2 - 1) * sy.asinh(1 / (2 * R_0 * r_t))\n",
    "    term6 = 2 * sy.log(r_t)\n",
    "\n",
    "    numerator = term1 + term2 + term3 + term4 + term5 + term6\n",
    "    denominator = 4 * (1 - R_0**2)\n",
    "\n",
    "    return numerator / denominator"
   ]
  },
  {
   "cell_type": "code",
   "execution_count": 47,
   "id": "c344aeee-fe89-4929-b374-ae704526bea7",
   "metadata": {},
   "outputs": [
    {
     "data": {
      "text/latex": [
       "$\\displaystyle \\frac{1}{4 - 4 R_{0}^{2}} + \\frac{\\operatorname{asinh}{\\left(\\frac{\\tilde{\\infty}}{R_{0}} \\right)}}{4 - 4 R_{0}^{2}} + \\frac{\\log{\\left(2 R_{0}^{2} + 4 R_{0} + 2 \\right)}}{4 - 4 R_{0}^{2}} - \\frac{2 \\log{\\left(1 - R_{0}^{2} \\right)}}{4 - 4 R_{0}^{2}} + \\frac{2 \\log{\\left(r_{t} \\right)}}{4 - 4 R_{0}^{2}} + \\frac{\\tilde{\\infty}}{- 4 R_{0}^{3} \\sqrt{1 + \\frac{\\tilde{\\infty}}{R_{0}^{2}}} + 4 R_{0} \\sqrt{1 + \\frac{\\tilde{\\infty}}{R_{0}^{2}}}} - \\frac{2}{4 R_{0}^{4} - 8 R_{0}^{2} + 4} + \\frac{2}{- 8 R_{0}^{4} - 16 R_{0}^{3} + 16 R_{0} + 8} + r_{t} \\left(\\frac{R_{0}^{5}}{- 8 R_{0}^{4} - 16 R_{0}^{3} + 16 R_{0} + 8} - \\frac{2 R_{0}^{4}}{4 R_{0}^{4} - 8 R_{0}^{2} + 4} - \\frac{2 R_{0}^{2}}{4 R_{0}^{4} - 8 R_{0}^{2} + 4} - \\frac{R_{0}}{- 8 R_{0}^{4} - 16 R_{0}^{3} + 16 R_{0} + 8}\\right) - \\frac{4 R_{0} \\log{\\left(2 \\right)}}{4 - 4 R_{0}^{2}} + \\frac{2 R_{0} \\log{\\left(r_{t} \\right)}}{4 - 4 R_{0}^{2}} + \\frac{\\tilde{\\infty} R_{0}}{- 4 R_{0}^{2} \\sqrt{1 + \\frac{\\tilde{\\infty}}{R_{0}^{2}}} + 4 \\sqrt{1 + \\frac{\\tilde{\\infty}}{R_{0}^{2}}}} + \\frac{4 R_{0}}{- 8 R_{0}^{4} - 16 R_{0}^{3} + 16 R_{0} + 8} + \\frac{R_{0}^{2}}{4 - 4 R_{0}^{2}} - \\frac{R_{0}^{2} \\operatorname{asinh}{\\left(\\frac{\\tilde{\\infty}}{R_{0}} \\right)}}{4 - 4 R_{0}^{2}} + \\frac{R_{0}^{2} \\log{\\left(2 R_{0}^{2} + 4 R_{0} + 2 \\right)}}{4 - 4 R_{0}^{2}} - \\frac{2 R_{0}^{2} \\log{\\left(1 - R_{0}^{2} \\right)}}{4 - 4 R_{0}^{2}} + \\frac{4 R_{0}^{2}}{- 8 R_{0}^{4} - 16 R_{0}^{3} + 16 R_{0} + 8} + \\frac{4 R_{0}^{3}}{- 8 R_{0}^{4} - 16 R_{0}^{3} + 16 R_{0} + 8} + \\frac{2 R_{0}^{4}}{4 R_{0}^{4} - 8 R_{0}^{2} + 4} + \\frac{2 R_{0}^{4}}{- 8 R_{0}^{4} - 16 R_{0}^{3} + 16 R_{0} + 8} + O\\left(r_{t}^{2}\\right)$"
      ],
      "text/plain": [
       "1/(4 - 4*R_0**2) + asinh(zoo/R_0)/(4 - 4*R_0**2) + log(2*R_0**2 + 4*R_0 + 2)/(4 - 4*R_0**2) - 2*log(1 - R_0**2)/(4 - 4*R_0**2) + 2*log(r_t)/(4 - 4*R_0**2) + zoo/(-4*R_0**3*sqrt(1 + zoo/R_0**2) + 4*R_0*sqrt(1 + zoo/R_0**2)) - 2/(4*R_0**4 - 8*R_0**2 + 4) + 2/(-8*R_0**4 - 16*R_0**3 + 16*R_0 + 8) + r_t*(R_0**5/(-8*R_0**4 - 16*R_0**3 + 16*R_0 + 8) - 2*R_0**4/(4*R_0**4 - 8*R_0**2 + 4) - 2*R_0**2/(4*R_0**4 - 8*R_0**2 + 4) - R_0/(-8*R_0**4 - 16*R_0**3 + 16*R_0 + 8)) - 4*R_0*log(2)/(4 - 4*R_0**2) + 2*R_0*log(r_t)/(4 - 4*R_0**2) + zoo*R_0/(-4*R_0**2*sqrt(1 + zoo/R_0**2) + 4*sqrt(1 + zoo/R_0**2)) + 4*R_0/(-8*R_0**4 - 16*R_0**3 + 16*R_0 + 8) + R_0**2/(4 - 4*R_0**2) - R_0**2*asinh(zoo/R_0)/(4 - 4*R_0**2) + R_0**2*log(2*R_0**2 + 4*R_0 + 2)/(4 - 4*R_0**2) - 2*R_0**2*log(1 - R_0**2)/(4 - 4*R_0**2) + 4*R_0**2/(-8*R_0**4 - 16*R_0**3 + 16*R_0 + 8) + 4*R_0**3/(-8*R_0**4 - 16*R_0**3 + 16*R_0 + 8) + 2*R_0**4/(4*R_0**4 - 8*R_0**2 + 4) + 2*R_0**4/(-8*R_0**4 - 16*R_0**3 + 16*R_0 + 8) + O(r_t**2)"
      ]
     },
     "execution_count": 47,
     "metadata": {},
     "output_type": "execute_result"
    }
   ],
   "source": [
    "r_t = sy.symbols(\"r_t\")\n",
    "sy.series(sympy_rhs_equation(),r_t,0,2)"
   ]
  },
  {
   "cell_type": "code",
   "execution_count": 49,
   "id": "93da6696-1147-45ac-b631-d4fd690b073a",
   "metadata": {},
   "outputs": [],
   "source": [
    "r_t = np.linspace(0.01,0.99,1000)"
   ]
  },
  {
   "cell_type": "code",
   "execution_count": 54,
   "id": "60528a2d-4fb3-4170-a050-cc8a93a3d7db",
   "metadata": {},
   "outputs": [
    {
     "name": "stderr",
     "output_type": "stream",
     "text": [
      "/var/folders/lk/6xn0tp_j2hz9nj1g893krwj80000gn/T/ipykernel_18773/8695876.py:6: RuntimeWarning: invalid value encountered in log\n",
      "  term3 = -2 * (R_0**2 + 1) * np.log(R_0**2 * (r_t - 1) + 1)\n"
     ]
    }
   ],
   "source": []
  },
  {
   "cell_type": "code",
   "execution_count": 58,
   "id": "4cf3d50b-11c7-43ce-8cd2-16eec28f3164",
   "metadata": {},
   "outputs": [
    {
     "name": "stderr",
     "output_type": "stream",
     "text": [
      "/var/folders/lk/6xn0tp_j2hz9nj1g893krwj80000gn/T/ipykernel_18773/8695876.py:6: RuntimeWarning: invalid value encountered in log\n",
      "  term3 = -2 * (R_0**2 + 1) * np.log(R_0**2 * (r_t - 1) + 1)\n"
     ]
    },
    {
     "data": {
      "text/plain": [
       "[<matplotlib.lines.Line2D at 0x11fd25520>]"
      ]
     },
     "execution_count": 58,
     "metadata": {},
     "output_type": "execute_result"
    },
    {
     "data": {
      "image/png": "[encoded data removed]",
      "text/plain": [
       "<Figure size 500x330 with 1 Axes>"
      ]
     },
     "metadata": {},
     "output_type": "display_data"
    }
   ],
   "source": [
    "t = numpy_equation(0, 1.1, r_t)\n",
    "import matplotlib.pyplot as pl\n",
    "pl.plot(t,r_t)"
   ]
  },
  {
   "cell_type": "code",
   "execution_count": 70,
   "id": "b4533800-866a-416b-8f73-77017e500fcd",
   "metadata": {},
   "outputs": [
    {
     "name": "stdout",
     "output_type": "stream",
     "text": [
      "Integral(1/(_y*(_y*R_0**2 - R_0*sqrt(_y**2*R_0**2 + 4) + 2)), (_y, r(t)))\n"
     ]
    }
   ],
   "source": [
    "print(a.lhs)"
   ]
  },
  {
   "cell_type": "code",
   "execution_count": 75,
   "id": "dc65a526-6789-4ecb-b656-45a026f6ad82",
   "metadata": {},
   "outputs": [
    {
     "data": {
      "text/latex": [
       "$\\displaystyle \\int\\limits_{0}^{r} \\frac{1}{y \\left(R_{0}^{2} y - R_{0} \\sqrt{R_{0}^{2} y^{2} + 4} + 2\\right)}\\, dy$"
      ],
      "text/plain": [
       "Integral(1/(y*(R_0**2*y - R_0*sqrt(R_0**2*y**2 + 4) + 2)), (y, 0, r))"
      ]
     },
     "execution_count": 75,
     "metadata": {},
     "output_type": "execute_result"
    }
   ],
   "source": [
    "r, _y, R_0 = sy.symbols(\"r y R_0\")\n",
    "sy.integrate(1/(_y*(_y*R_0**2 - R_0*sy.sqrt(_y**2*R_0**2 + 4) + 2)), (_y, 0,r))"
   ]
  },
  {
   "cell_type": "code",
   "execution_count": 95,
   "id": "e435d1f2-4c66-42ca-928c-88ce2e12f99d",
   "metadata": {},
   "outputs": [
    {
     "data": {
      "text/latex": [
       "$\\displaystyle 1 - R_{0} r + \\frac{R_{0}^{2} r^{2}}{2} + O\\left(r^{3}\\right)$"
      ],
      "text/plain": [
       "1 - R_0*r + R_0**2*r**2/2 + O(r**3)"
      ]
     },
     "execution_count": 95,
     "metadata": {},
     "output_type": "execute_result"
    }
   ],
   "source": [
    "sy.series(R0**2*r**2/2 - R0*r*sy.sqrt(R0**2*r**2 + 4)/2 + 1,r,0,3)"
   ]
  },
  {
   "cell_type": "code",
   "execution_count": 96,
   "id": "91e30c4a-6c91-4dba-8ded-e14c0ac2ff25",
   "metadata": {},
   "outputs": [
    {
     "data": {
      "text/latex": [
       "$\\displaystyle \\frac{R_{0}^{2} r^{2}}{2} - \\frac{R_{0} r \\sqrt{R_{0}^{2} r^{2} + 4}}{2} + 1$"
      ],
      "text/plain": [
       "R_0**2*r**2/2 - R_0*r*sqrt(R_0**2*r**2 + 4)/2 + 1"
      ]
     },
     "execution_count": 96,
     "metadata": {},
     "output_type": "execute_result"
    }
   ],
   "source": [
    "R0**2*r**2/2 - R0*r*sy.sqrt(R0**2*r**2 + 4)/2 + 1"
   ]
  },
  {
   "cell_type": "code",
   "execution_count": 100,
   "id": "e6328c78-069c-482c-a33e-6dd50daf496a",
   "metadata": {},
   "outputs": [
    {
     "data": {
      "text/plain": [
       "[<matplotlib.lines.Line2D at 0x13f850a10>]"
      ]
     },
     "execution_count": 100,
     "metadata": {},
     "output_type": "execute_result"
    },
    {
     "data": {
      "image/png": "[encoded data removed]",
      "text/plain": [
       "<Figure size 500x330 with 1 Axes>"
      ]
     },
     "metadata": {},
     "output_type": "display_data"
    }
   ],
   "source": [
    "pl.figure()\n",
    "r = np.linspace(0,1,101)\n",
    "R0 = 1.2\n",
    "pl.plot(r,  1 + 0.5*(R0*r)**2 - 0.5*R0*r *np.sqrt((R0*r)**2 + 4))\n",
    "pl.plot(r, np.exp(-R0*r))"
   ]
  },
  {
   "cell_type": "code",
   "execution_count": 102,
   "id": "5a84acd9-1de6-4143-8514-6a065f8e8cdd",
   "metadata": {},
   "outputs": [
    {
     "data": {
      "text/plain": [
       "[s_0*(R_0**2*r**2 - R_0*r*sqrt(R_0**2*r**2 + 4) + 2)/2,\n",
       " s_0*(R_0**2*r**2 + R_0*r*sqrt(R_0**2*r**2 + 4) + 2)/2]"
      ]
     },
     "execution_count": 102,
     "metadata": {},
     "output_type": "execute_result"
    }
   ],
   "source": [
    "sy.solve(sy.Eq(r, (1/sy.sqrt(s/s0) - sy.sqrt(s/s0))/R0), s)"
   ]
  },
  {
   "cell_type": "code",
   "execution_count": 140,
   "id": "939da20c-a91c-4b10-97b0-21ea36061b64",
   "metadata": {},
   "outputs": [],
   "source": [
    "def drdt(t, y, R_0, s_0):\n",
    "    r = y[0]\n",
    "    return 1 - r - (s_0*(R_0**2*r**2/2 - R_0*r*np.sqrt(R_0**2*r**2/2 + 4) + 1))"
   ]
  },
  {
   "cell_type": "code",
   "execution_count": 126,
   "id": "c438510a-1a77-4996-9337-099ebd3d5bd7",
   "metadata": {},
   "outputs": [
    {
     "name": "stdout",
     "output_type": "stream",
     "text": [
      "  message: The solver successfully reached the end of the integration interval.\n",
      "  success: True\n",
      "   status: 0\n",
      "        t: [ 0.000e+00  1.000e+00 ...  9.900e+01  1.000e+02]\n",
      "        y: [[ 0.000e+00  1.166e-05 ...  4.079e-01  4.080e-01]]\n",
      "      sol: None\n",
      " t_events: None\n",
      " y_events: None\n",
      "     nfev: 128\n",
      "     njev: 0\n",
      "      nlu: 0\n"
     ]
    },
    {
     "data": {
      "text/plain": [
       "[<matplotlib.lines.Line2D at 0x16fefa000>]"
      ]
     },
     "execution_count": 126,
     "metadata": {},
     "output_type": "execute_result"
    },
    {
     "data": {
      "image/png": "[encoded data removed]",
      "text/plain": [
       "<Figure size 500x330 with 1 Axes>"
      ]
     },
     "metadata": {},
     "output_type": "display_data"
    }
   ],
   "source": [
    "from scipy.integrate import solve_ivp\n",
    "y0 = 0\n",
    "_R0 = 1.3\n",
    "_s0 = 0.99999\n",
    "t_span = (0.,100.)\n",
    "t_eval = np.linspace(t_span[0], t_span[1], 101)\n",
    "res = solve_ivp(drdt, t_span, [y0], args=(_R0, _s0), t_eval=t_eval)\n",
    "print(res)\n",
    "pl.figure()\n",
    "pl.plot(res.t, res.y[0])"
   ]
  },
  {
   "cell_type": "code",
   "execution_count": 119,
   "id": "45908f33-95e5-4504-a231-212d6628ea02",
   "metadata": {},
   "outputs": [
    {
     "data": {
      "text/plain": [
       "False"
      ]
     },
     "execution_count": 119,
     "metadata": {},
     "output_type": "execute_result"
    }
   ],
   "source": [
    "np.any(t_eval < min(0., 100.)) or np.any(t_eval > max(0., 100.))"
   ]
  },
  {
   "cell_type": "code",
   "execution_count": 130,
   "id": "55d327e3-59b3-4fb3-bd6e-5bae264100c6",
   "metadata": {},
   "outputs": [
    {
     "data": {
      "text/latex": [
       "$\\displaystyle - \\frac{R_{0} r}{2} + \\frac{\\sqrt{R_{0}^{2} r^{2} + 4}}{2}$"
      ],
      "text/plain": [
       "-R_0*r/2 + sqrt(R_0**2*r**2 + 4)/2"
      ]
     },
     "execution_count": 130,
     "metadata": {},
     "output_type": "execute_result"
    }
   ],
   "source": [
    "sy.solve(sy.Eq(r, (1/z - z)/R0), z)[1]"
   ]
  },
  {
   "cell_type": "code",
   "execution_count": 139,
   "id": "d1d4aecb-d079-4dd0-9851-2675af92c1bd",
   "metadata": {},
   "outputs": [
    {
     "data": {
      "text/latex": [
       "$\\displaystyle \\frac{R_{0}^{2} r^{2}}{2} - \\frac{R_{0} r \\sqrt{R_{0}^{2} r^{2} + 4}}{2} + 1$"
      ],
      "text/plain": [
       "R_0**2*r**2/2 - R_0*r*sqrt(R_0**2*r**2 + 4)/2 + 1"
      ]
     },
     "execution_count": 139,
     "metadata": {},
     "output_type": "execute_result"
    }
   ],
   "source": [
    "sy.solve(sy.Eq(r, (1/sy.sqrt(z) - sy.sqrt(z))/R0), z)[0]"
   ]
  },
  {
   "cell_type": "code",
   "execution_count": 136,
   "id": "2885cbda-d8f1-4ba0-b605-d46c85df3d5b",
   "metadata": {},
   "outputs": [
    {
     "data": {
      "text/plain": [
       "[]"
      ]
     },
     "execution_count": 136,
     "metadata": {},
     "output_type": "execute_result"
    }
   ],
   "source": [
    "sy.solve(sy.Eq(R_0*r, sy.sqrt(R_0**2*r**2 + 4)),r)"
   ]
  },
  {
   "cell_type": "code",
   "execution_count": 148,
   "id": "0ead91a7-4ab0-4774-9051-1f694e66c78b",
   "metadata": {},
   "outputs": [
    {
     "data": {
      "text/plain": [
       "[Integral(1/(_y**2*R_0**2*s_0 - _y*R_0*s_0*sqrt(_y**2*R_0**2 + 4) + 2*_y + 2*s_0 - 2), (_y, r(t)))]"
      ]
     },
     "execution_count": 148,
     "metadata": {},
     "output_type": "execute_result"
    }
   ],
   "source": [
    "[a.lhs]"
   ]
  },
  {
   "cell_type": "code",
   "execution_count": null,
   "id": "ce7a2d04-4a04-455e-afff-02a47aeefde9",
   "metadata": {},
   "outputs": [],
   "source": [
    "r = sy.Function('r')\n",
    "a = sy.dsolve(sy.Eq(sy.Derivative(r(t), t),1-r(t)-s0*(R0**2*r(t)**2 - R0*r(t)*(2+R0**2*r(t)**2) + 2)/2 ),\n",
    "             ics={r(0): 0})\n",
    "a"
   ]
  },
  {
   "cell_type": "code",
   "execution_count": 5,
   "id": "76bf2826-513a-4c26-9148-997398798ef4",
   "metadata": {},
   "outputs": [
    {
     "data": {
      "text/latex": [
       "$\\displaystyle 2 + \\frac{R_{0}^{2} r^{2}}{4} + O\\left(r^{3}\\right)$"
      ],
      "text/plain": [
       "2 + R_0**2*r**2/4 + O(r**3)"
      ]
     },
     "execution_count": 5,
     "metadata": {},
     "output_type": "execute_result"
    }
   ],
   "source": [
    "sy.series(sy.sqrt(R0**2*r**2 + 4), r, 0,3)"
   ]
  },
  {
   "cell_type": "code",
   "execution_count": 7,
   "id": "0cf4b621-3b8d-4d11-a8cb-a2af1a22277a",
   "metadata": {},
   "outputs": [
    {
     "data": {
      "text/latex": [
       "$\\displaystyle 0 = - s_{0} \\left(- \\frac{R_{0}^{3} r^{2}}{4 \\sqrt{\\frac{R_{0}^{2} r^{2}}{4} + 1}} + R_{0}^{2} r - R_{0} \\sqrt{\\frac{R_{0}^{2} r^{2}}{4} + 1}\\right)$"
      ],
      "text/plain": [
       "Eq(0, -s_0*(-R_0**3*r**2/(4*sqrt(R_0**2*r**2/4 + 1)) + R_0**2*r - R_0*sqrt(R_0**2*r**2/4 + 1)))"
      ]
     },
     "execution_count": 7,
     "metadata": {},
     "output_type": "execute_result"
    }
   ],
   "source": [
    "sy.Eq(0,sy.diff(1-r-s0*(1+R0**2*r**2/2 - R0*r*sy.sqrt(1+R0**2*r**2/4)),r))"
   ]
  },
  {
   "cell_type": "code",
   "execution_count": 12,
   "id": "b9eaf215-9a22-4b94-b732-21c97887d8c5",
   "metadata": {},
   "outputs": [
    {
     "data": {
      "text/plain": [
       "[-(-12/R_0**2 + 1/(4*R_0**4*s_0**2))/(3*(sqrt(-4*(-12/R_0**2 + 1/(4*R_0**4*s_0**2))**3 + (27*(-2*R_0**2*s_0**2 + 2)/(R_0**4*s_0) - 18/(R_0**4*s_0) + 1/(4*R_0**6*s_0**3))**2)/2 + 27*(-2*R_0**2*s_0**2 + 2)/(2*R_0**4*s_0) - 9/(R_0**4*s_0) + 1/(8*R_0**6*s_0**3))**(1/3)) - (sqrt(-4*(-12/R_0**2 + 1/(4*R_0**4*s_0**2))**3 + (27*(-2*R_0**2*s_0**2 + 2)/(R_0**4*s_0) - 18/(R_0**4*s_0) + 1/(4*R_0**6*s_0**3))**2)/2 + 27*(-2*R_0**2*s_0**2 + 2)/(2*R_0**4*s_0) - 9/(R_0**4*s_0) + 1/(8*R_0**6*s_0**3))**(1/3)/3 - 1/(6*R_0**2*s_0),\n",
       " -(-12/R_0**2 + 1/(4*R_0**4*s_0**2))/(3*(-1/2 - sqrt(3)*I/2)*(sqrt(-4*(-12/R_0**2 + 1/(4*R_0**4*s_0**2))**3 + (27*(-2*R_0**2*s_0**2 + 2)/(R_0**4*s_0) - 18/(R_0**4*s_0) + 1/(4*R_0**6*s_0**3))**2)/2 + 27*(-2*R_0**2*s_0**2 + 2)/(2*R_0**4*s_0) - 9/(R_0**4*s_0) + 1/(8*R_0**6*s_0**3))**(1/3)) - (-1/2 - sqrt(3)*I/2)*(sqrt(-4*(-12/R_0**2 + 1/(4*R_0**4*s_0**2))**3 + (27*(-2*R_0**2*s_0**2 + 2)/(R_0**4*s_0) - 18/(R_0**4*s_0) + 1/(4*R_0**6*s_0**3))**2)/2 + 27*(-2*R_0**2*s_0**2 + 2)/(2*R_0**4*s_0) - 9/(R_0**4*s_0) + 1/(8*R_0**6*s_0**3))**(1/3)/3 - 1/(6*R_0**2*s_0),\n",
       " -(-12/R_0**2 + 1/(4*R_0**4*s_0**2))/(3*(-1/2 + sqrt(3)*I/2)*(sqrt(-4*(-12/R_0**2 + 1/(4*R_0**4*s_0**2))**3 + (27*(-2*R_0**2*s_0**2 + 2)/(R_0**4*s_0) - 18/(R_0**4*s_0) + 1/(4*R_0**6*s_0**3))**2)/2 + 27*(-2*R_0**2*s_0**2 + 2)/(2*R_0**4*s_0) - 9/(R_0**4*s_0) + 1/(8*R_0**6*s_0**3))**(1/3)) - (-1/2 + sqrt(3)*I/2)*(sqrt(-4*(-12/R_0**2 + 1/(4*R_0**4*s_0**2))**3 + (27*(-2*R_0**2*s_0**2 + 2)/(R_0**4*s_0) - 18/(R_0**4*s_0) + 1/(4*R_0**6*s_0**3))**2)/2 + 27*(-2*R_0**2*s_0**2 + 2)/(2*R_0**4*s_0) - 9/(R_0**4*s_0) + 1/(8*R_0**6*s_0**3))**(1/3)/3 - 1/(6*R_0**2*s_0)]"
      ]
     },
     "execution_count": 12,
     "metadata": {},
     "output_type": "execute_result"
    }
   ],
   "source": [
    "sy.solve(sy.Eq(0,sy.diff(1-s0*(1+R0**2*r**2/2 - R0*r*sy.sqrt(1+R0**2*r**2/4))-r,r)),r)"
   ]
  },
  {
   "cell_type": "code",
   "execution_count": 13,
   "id": "1f461b30-7331-4974-a315-900171615f23",
   "metadata": {},
   "outputs": [
    {
     "data": {
      "text/latex": [
       "$\\displaystyle 0 = R_{0} s_{0} \\left(- r - s_{0} \\left(\\frac{R_{0}^{2} r^{2}}{2} - R_{0} r \\sqrt{\\frac{R_{0}^{2} r^{2}}{4} + 1} + 1\\right) + 1\\right) \\left(\\frac{R_{0}^{2} r^{2}}{2} - R_{0} r \\sqrt{\\frac{R_{0}^{2} r^{2}}{4} + 1} + 1\\right) + r + s_{0} \\left(\\frac{R_{0}^{2} r^{2}}{2} - R_{0} r \\sqrt{\\frac{R_{0}^{2} r^{2}}{4} + 1} + 1\\right) - 1$"
      ],
      "text/plain": [
       "Eq(0, R_0*s_0*(-r - s_0*(R_0**2*r**2/2 - R_0*r*sqrt(R_0**2*r**2/4 + 1) + 1) + 1)*(R_0**2*r**2/2 - R_0*r*sqrt(R_0**2*r**2/4 + 1) + 1) + r + s_0*(R_0**2*r**2/2 - R_0*r*sqrt(R_0**2*r**2/4 + 1) + 1) - 1)"
      ]
     },
     "execution_count": 13,
     "metadata": {},
     "output_type": "execute_result"
    }
   ],
   "source": [
    "s = s0*(1+R0**2*r**2/2 - R0*r*sy.sqrt(1+R0**2*r**2/4))\n",
    "j = 1-r-s\n",
    "sy.Eq(0, R0*s*j - j)"
   ]
  },
  {
   "cell_type": "code",
   "execution_count": 16,
   "id": "339728ee-d505-4225-b723-000c393d565d",
   "metadata": {},
   "outputs": [
    {
     "data": {
      "text/latex": [
       "$\\displaystyle \\frac{\\sqrt{R_{0}} - \\sqrt{\\frac{1}{R_{0}}}}{R_{0}}$"
      ],
      "text/plain": [
       "(sqrt(R_0) - sqrt(1/R_0))/R_0"
      ]
     },
     "execution_count": 16,
     "metadata": {},
     "output_type": "execute_result"
    }
   ],
   "source": [
    "(sy.sqrt(R0) - sy.sqrt(1/R0))/R0"
   ]
  },
  {
   "cell_type": "code",
   "execution_count": 18,
   "id": "36c3e8b0-b1e5-4f09-9f72-8b38d40b3620",
   "metadata": {},
   "outputs": [
    {
     "data": {
      "text/latex": [
       "$\\displaystyle - \\left(\\frac{1}{R_{0}}\\right)^{1.5} + \\frac{1}{\\sqrt{R_{0}}}$"
      ],
      "text/plain": [
       "-(1/R_0)**1.5 + 1/sqrt(R_0)"
      ]
     },
     "execution_count": 18,
     "metadata": {},
     "output_type": "execute_result"
    }
   ],
   "source": [
    "1/sy.sqrt(R0) - (1/R0)**(3/2)"
   ]
  },
  {
   "cell_type": "code",
   "execution_count": 33,
   "id": "44da673e-7e84-4a06-9912-936ad2585e99",
   "metadata": {},
   "outputs": [
    {
     "ename": "KeyboardInterrupt",
     "evalue": "",
     "output_type": "error",
     "traceback": [
      "\u001b[0;31m---------------------------------------------------------------------------\u001b[0m",
      "\u001b[0;31mKeyboardInterrupt\u001b[0m                         Traceback (most recent call last)",
      "Cell \u001b[0;32mIn[33], line 2\u001b[0m\n\u001b[1;32m      1\u001b[0m s, s0, R0 \u001b[38;5;241m=\u001b[39m sy\u001b[38;5;241m.\u001b[39msymbols(\u001b[38;5;124m\"\u001b[39m\u001b[38;5;124ms s_0 R_0\u001b[39m\u001b[38;5;124m\"\u001b[39m)\n\u001b[0;32m----> 2\u001b[0m sy\u001b[38;5;241m.\u001b[39msolve(sy\u001b[38;5;241m.\u001b[39mEq(\u001b[38;5;241m1\u001b[39m\u001b[38;5;241m-\u001b[39ms, (\u001b[38;5;241m1\u001b[39m\u001b[38;5;241m/\u001b[39msy\u001b[38;5;241m.\u001b[39msqrt(s\u001b[38;5;241m/\u001b[39ms0) \u001b[38;5;241m-\u001b[39m sy\u001b[38;5;241m.\u001b[39msqrt(s\u001b[38;5;241m/\u001b[39ms0))\u001b[38;5;241m/\u001b[39mR0), s)\n",
      "File \u001b[0;32m~/miniconda3/lib/python3.12/site-packages/sympy/solvers/solvers.py:1170\u001b[0m, in \u001b[0;36msolve\u001b[0;34m(f, *symbols, **flags)\u001b[0m\n\u001b[1;32m   1168\u001b[0m         solution \u001b[38;5;241m=\u001b[39m _solve_undetermined(f[\u001b[38;5;241m0\u001b[39m], symbols, flags)\n\u001b[1;32m   1169\u001b[0m     \u001b[38;5;28;01mif\u001b[39;00m \u001b[38;5;129;01mnot\u001b[39;00m solution:\n\u001b[0;32m-> 1170\u001b[0m         solution \u001b[38;5;241m=\u001b[39m _solve(f[\u001b[38;5;241m0\u001b[39m], \u001b[38;5;241m*\u001b[39msymbols, \u001b[38;5;241m*\u001b[39m\u001b[38;5;241m*\u001b[39mflags)\n\u001b[1;32m   1171\u001b[0m \u001b[38;5;28;01melse\u001b[39;00m:\n\u001b[1;32m   1172\u001b[0m     linear, solution \u001b[38;5;241m=\u001b[39m _solve_system(f, symbols, \u001b[38;5;241m*\u001b[39m\u001b[38;5;241m*\u001b[39mflags)\n",
      "File \u001b[0;32m~/miniconda3/lib/python3.12/site-packages/sympy/solvers/solvers.py:1751\u001b[0m, in \u001b[0;36m_solve\u001b[0;34m(f, *symbols, **flags)\u001b[0m\n\u001b[1;32m   1745\u001b[0m     result \u001b[38;5;241m=\u001b[39m [r \u001b[38;5;28;01mfor\u001b[39;00m r \u001b[38;5;129;01min\u001b[39;00m result \u001b[38;5;28;01mif\u001b[39;00m\n\u001b[1;32m   1746\u001b[0m               \u001b[38;5;129;01mnot\u001b[39;00m \u001b[38;5;28many\u001b[39m(checksol(d, r, \u001b[38;5;241m*\u001b[39m\u001b[38;5;241m*\u001b[39mflags)\n\u001b[1;32m   1747\u001b[0m                       \u001b[38;5;28;01mfor\u001b[39;00m d \u001b[38;5;129;01min\u001b[39;00m dens)]\n\u001b[1;32m   1748\u001b[0m \u001b[38;5;28;01mif\u001b[39;00m check:\n\u001b[1;32m   1749\u001b[0m     \u001b[38;5;66;03m# keep only results if the check is not False\u001b[39;00m\n\u001b[1;32m   1750\u001b[0m     result \u001b[38;5;241m=\u001b[39m [r \u001b[38;5;28;01mfor\u001b[39;00m r \u001b[38;5;129;01min\u001b[39;00m result \u001b[38;5;28;01mif\u001b[39;00m\n\u001b[0;32m-> 1751\u001b[0m               checksol(f_num, r, \u001b[38;5;241m*\u001b[39m\u001b[38;5;241m*\u001b[39mflags) \u001b[38;5;129;01mis\u001b[39;00m \u001b[38;5;129;01mnot\u001b[39;00m \u001b[38;5;28;01mFalse\u001b[39;00m]\n\u001b[1;32m   1752\u001b[0m \u001b[38;5;28;01mreturn\u001b[39;00m result\n",
      "File \u001b[0;32m~/miniconda3/lib/python3.12/site-packages/sympy/solvers/solvers.py:312\u001b[0m, in \u001b[0;36mchecksol\u001b[0;34m(f, symbol, sol, **flags)\u001b[0m\n\u001b[1;32m    309\u001b[0m         sol[k] \u001b[38;5;241m=\u001b[39m simplify(sol[k])\n\u001b[1;32m    310\u001b[0m \u001b[38;5;66;03m# start over without the failed expanded form, possibly\u001b[39;00m\n\u001b[1;32m    311\u001b[0m \u001b[38;5;66;03m# with a simplified solution\u001b[39;00m\n\u001b[0;32m--> 312\u001b[0m val \u001b[38;5;241m=\u001b[39m simplify(f\u001b[38;5;241m.\u001b[39msubs(sol))\n\u001b[1;32m    313\u001b[0m \u001b[38;5;28;01mif\u001b[39;00m flags\u001b[38;5;241m.\u001b[39mget(\u001b[38;5;124m'\u001b[39m\u001b[38;5;124mforce\u001b[39m\u001b[38;5;124m'\u001b[39m, \u001b[38;5;28;01mTrue\u001b[39;00m):\n\u001b[1;32m    314\u001b[0m     val, reps \u001b[38;5;241m=\u001b[39m posify(val)\n",
      "File \u001b[0;32m~/miniconda3/lib/python3.12/site-packages/sympy/simplify/simplify.py:645\u001b[0m, in \u001b[0;36msimplify\u001b[0;34m(expr, ratio, measure, rational, inverse, doit, **kwargs)\u001b[0m\n\u001b[1;32m    643\u001b[0m expr \u001b[38;5;241m=\u001b[39m Mul(\u001b[38;5;241m*\u001b[39mpowsimp(expr)\u001b[38;5;241m.\u001b[39mas_content_primitive())\n\u001b[1;32m    644\u001b[0m _e \u001b[38;5;241m=\u001b[39m cancel(expr)\n\u001b[0;32m--> 645\u001b[0m expr1 \u001b[38;5;241m=\u001b[39m shorter(_e, _mexpand(_e)\u001b[38;5;241m.\u001b[39mcancel())  \u001b[38;5;66;03m# issue 6829\u001b[39;00m\n\u001b[1;32m    646\u001b[0m expr2 \u001b[38;5;241m=\u001b[39m shorter(together(expr, deep\u001b[38;5;241m=\u001b[39m\u001b[38;5;28;01mTrue\u001b[39;00m), together(expr1, deep\u001b[38;5;241m=\u001b[39m\u001b[38;5;28;01mTrue\u001b[39;00m))\n\u001b[1;32m    648\u001b[0m \u001b[38;5;28;01mif\u001b[39;00m ratio \u001b[38;5;129;01mis\u001b[39;00m S\u001b[38;5;241m.\u001b[39mInfinity:\n",
      "File \u001b[0;32m~/miniconda3/lib/python3.12/site-packages/sympy/core/expr.py:3782\u001b[0m, in \u001b[0;36mExpr.cancel\u001b[0;34m(self, *gens, **args)\u001b[0m\n\u001b[1;32m   3780\u001b[0m \u001b[38;5;250m\u001b[39m\u001b[38;5;124;03m\"\"\"See the cancel function in sympy.polys\"\"\"\u001b[39;00m\n\u001b[1;32m   3781\u001b[0m \u001b[38;5;28;01mfrom\u001b[39;00m \u001b[38;5;21;01msympy\u001b[39;00m\u001b[38;5;21;01m.\u001b[39;00m\u001b[38;5;21;01mpolys\u001b[39;00m\u001b[38;5;21;01m.\u001b[39;00m\u001b[38;5;21;01mpolytools\u001b[39;00m \u001b[38;5;28;01mimport\u001b[39;00m cancel\n\u001b[0;32m-> 3782\u001b[0m \u001b[38;5;28;01mreturn\u001b[39;00m cancel(\u001b[38;5;28mself\u001b[39m, \u001b[38;5;241m*\u001b[39mgens, \u001b[38;5;241m*\u001b[39m\u001b[38;5;241m*\u001b[39margs)\n",
      "File \u001b[0;32m~/miniconda3/lib/python3.12/site-packages/sympy/polys/polytools.py:7213\u001b[0m, in \u001b[0;36mcancel\u001b[0;34m(f, _signsimp, *gens, **args)\u001b[0m\n\u001b[1;32m   7210\u001b[0m                 \u001b[38;5;28;01mpass\u001b[39;00m\n\u001b[1;32m   7211\u001b[0m         \u001b[38;5;28;01mreturn\u001b[39;00m f\u001b[38;5;241m.\u001b[39mxreplace(\u001b[38;5;28mdict\u001b[39m(reps))\n\u001b[0;32m-> 7213\u001b[0m c, (P, Q) \u001b[38;5;241m=\u001b[39m \u001b[38;5;241m1\u001b[39m, F\u001b[38;5;241m.\u001b[39mcancel(G)\n\u001b[1;32m   7214\u001b[0m \u001b[38;5;28;01mif\u001b[39;00m opt\u001b[38;5;241m.\u001b[39mget(\u001b[38;5;124m'\u001b[39m\u001b[38;5;124mpolys\u001b[39m\u001b[38;5;124m'\u001b[39m, \u001b[38;5;28;01mFalse\u001b[39;00m) \u001b[38;5;129;01mand\u001b[39;00m \u001b[38;5;124m'\u001b[39m\u001b[38;5;124mgens\u001b[39m\u001b[38;5;124m'\u001b[39m \u001b[38;5;129;01mnot\u001b[39;00m \u001b[38;5;129;01min\u001b[39;00m opt:\n\u001b[1;32m   7215\u001b[0m     opt[\u001b[38;5;124m'\u001b[39m\u001b[38;5;124mgens\u001b[39m\u001b[38;5;124m'\u001b[39m] \u001b[38;5;241m=\u001b[39m R\u001b[38;5;241m.\u001b[39msymbols\n",
      "File \u001b[0;32m~/miniconda3/lib/python3.12/site-packages/sympy/polys/rings.py:2242\u001b[0m, in \u001b[0;36mPolyElement.cancel\u001b[0;34m(self, g)\u001b[0m\n\u001b[1;32m   2239\u001b[0m domain \u001b[38;5;241m=\u001b[39m ring\u001b[38;5;241m.\u001b[39mdomain\n\u001b[1;32m   2241\u001b[0m \u001b[38;5;28;01mif\u001b[39;00m \u001b[38;5;129;01mnot\u001b[39;00m (domain\u001b[38;5;241m.\u001b[39mis_Field \u001b[38;5;129;01mand\u001b[39;00m domain\u001b[38;5;241m.\u001b[39mhas_assoc_Ring):\n\u001b[0;32m-> 2242\u001b[0m     _, p, q \u001b[38;5;241m=\u001b[39m f\u001b[38;5;241m.\u001b[39mcofactors(g)\n\u001b[1;32m   2243\u001b[0m \u001b[38;5;28;01melse\u001b[39;00m:\n\u001b[1;32m   2244\u001b[0m     new_ring \u001b[38;5;241m=\u001b[39m ring\u001b[38;5;241m.\u001b[39mclone(domain\u001b[38;5;241m=\u001b[39mdomain\u001b[38;5;241m.\u001b[39mget_ring())\n",
      "File \u001b[0;32m~/miniconda3/lib/python3.12/site-packages/sympy/polys/rings.py:2158\u001b[0m, in \u001b[0;36mPolyElement.cofactors\u001b[0;34m(f, g)\u001b[0m\n\u001b[1;32m   2155\u001b[0m     \u001b[38;5;28;01mreturn\u001b[39;00m h, cff, cfg\n\u001b[1;32m   2157\u001b[0m J, (f, g) \u001b[38;5;241m=\u001b[39m f\u001b[38;5;241m.\u001b[39mdeflate(g)\n\u001b[0;32m-> 2158\u001b[0m h, cff, cfg \u001b[38;5;241m=\u001b[39m f\u001b[38;5;241m.\u001b[39m_gcd(g)\n\u001b[1;32m   2160\u001b[0m \u001b[38;5;28;01mreturn\u001b[39;00m (h\u001b[38;5;241m.\u001b[39minflate(J), cff\u001b[38;5;241m.\u001b[39minflate(J), cfg\u001b[38;5;241m.\u001b[39minflate(J))\n",
      "File \u001b[0;32m~/miniconda3/lib/python3.12/site-packages/sympy/polys/rings.py:2193\u001b[0m, in \u001b[0;36mPolyElement._gcd\u001b[0;34m(f, g)\u001b[0m\n\u001b[1;32m   2191\u001b[0m     \u001b[38;5;28;01mreturn\u001b[39;00m f\u001b[38;5;241m.\u001b[39m_gcd_ZZ(g)\n\u001b[1;32m   2192\u001b[0m \u001b[38;5;28;01melse\u001b[39;00m: \u001b[38;5;66;03m# TODO: don't use dense representation (port PRS algorithms)\u001b[39;00m\n\u001b[0;32m-> 2193\u001b[0m     \u001b[38;5;28;01mreturn\u001b[39;00m ring\u001b[38;5;241m.\u001b[39mdmp_inner_gcd(f, g)\n",
      "File \u001b[0;32m~/miniconda3/lib/python3.12/site-packages/sympy/polys/compatibility.py:667\u001b[0m, in \u001b[0;36mIPolys.dmp_inner_gcd\u001b[0;34m(self, f, g)\u001b[0m\n\u001b[1;32m    666\u001b[0m \u001b[38;5;28;01mdef\u001b[39;00m \u001b[38;5;21mdmp_inner_gcd\u001b[39m(\u001b[38;5;28mself\u001b[39m, f, g):\n\u001b[0;32m--> 667\u001b[0m     H, F, G \u001b[38;5;241m=\u001b[39m dmp_inner_gcd(\u001b[38;5;28mself\u001b[39m\u001b[38;5;241m.\u001b[39mto_dense(f), \u001b[38;5;28mself\u001b[39m\u001b[38;5;241m.\u001b[39mto_dense(g), \u001b[38;5;28mself\u001b[39m\u001b[38;5;241m.\u001b[39mngens\u001b[38;5;241m-\u001b[39m\u001b[38;5;241m1\u001b[39m, \u001b[38;5;28mself\u001b[39m\u001b[38;5;241m.\u001b[39mdomain)\n\u001b[1;32m    668\u001b[0m     \u001b[38;5;28;01mreturn\u001b[39;00m (\u001b[38;5;28mself\u001b[39m\u001b[38;5;241m.\u001b[39mfrom_dense(H), \u001b[38;5;28mself\u001b[39m\u001b[38;5;241m.\u001b[39mfrom_dense(F), \u001b[38;5;28mself\u001b[39m\u001b[38;5;241m.\u001b[39mfrom_dense(G))\n",
      "File \u001b[0;32m~/miniconda3/lib/python3.12/site-packages/sympy/polys/euclidtools.py:1598\u001b[0m, in \u001b[0;36mdmp_inner_gcd\u001b[0;34m(f, g, u, K)\u001b[0m\n\u001b[1;32m   1595\u001b[0m     \u001b[38;5;28;01mreturn\u001b[39;00m dup_inner_gcd(f, g, K)\n\u001b[1;32m   1597\u001b[0m J, (f, g) \u001b[38;5;241m=\u001b[39m dmp_multi_deflate((f, g), u, K)\n\u001b[0;32m-> 1598\u001b[0m h, cff, cfg \u001b[38;5;241m=\u001b[39m _dmp_inner_gcd(f, g, u, K)\n\u001b[1;32m   1600\u001b[0m \u001b[38;5;28;01mreturn\u001b[39;00m (dmp_inflate(h, J, u, K),\n\u001b[1;32m   1601\u001b[0m         dmp_inflate(cff, J, u, K),\n\u001b[1;32m   1602\u001b[0m         dmp_inflate(cfg, J, u, K))\n",
      "File \u001b[0;32m~/miniconda3/lib/python3.12/site-packages/sympy/polys/euclidtools.py:1571\u001b[0m, in \u001b[0;36m_dmp_inner_gcd\u001b[0;34m(f, g, u, K)\u001b[0m\n\u001b[1;32m   1568\u001b[0m     \u001b[38;5;28;01mexcept\u001b[39;00m HeuristicGCDFailed:\n\u001b[1;32m   1569\u001b[0m         \u001b[38;5;28;01mpass\u001b[39;00m\n\u001b[0;32m-> 1571\u001b[0m \u001b[38;5;28;01mreturn\u001b[39;00m dmp_rr_prs_gcd(f, g, u, K)\n",
      "File \u001b[0;32m~/miniconda3/lib/python3.12/site-packages/sympy/polys/euclidtools.py:1065\u001b[0m, in \u001b[0;36mdmp_rr_prs_gcd\u001b[0;34m(f, g, u, K)\u001b[0m\n\u001b[1;32m   1062\u001b[0m \u001b[38;5;28;01mif\u001b[39;00m result \u001b[38;5;129;01mis\u001b[39;00m \u001b[38;5;129;01mnot\u001b[39;00m \u001b[38;5;28;01mNone\u001b[39;00m:\n\u001b[1;32m   1063\u001b[0m     \u001b[38;5;28;01mreturn\u001b[39;00m result\n\u001b[0;32m-> 1065\u001b[0m fc, F \u001b[38;5;241m=\u001b[39m dmp_primitive(f, u, K)\n\u001b[1;32m   1066\u001b[0m gc, G \u001b[38;5;241m=\u001b[39m dmp_primitive(g, u, K)\n\u001b[1;32m   1068\u001b[0m h \u001b[38;5;241m=\u001b[39m dmp_subresultants(F, G, u, K)[\u001b[38;5;241m-\u001b[39m\u001b[38;5;241m1\u001b[39m]\n",
      "File \u001b[0;32m~/miniconda3/lib/python3.12/site-packages/sympy/polys/euclidtools.py:1837\u001b[0m, in \u001b[0;36mdmp_primitive\u001b[0;34m(f, u, K)\u001b[0m\n\u001b[1;32m   1823\u001b[0m \u001b[38;5;28;01mdef\u001b[39;00m \u001b[38;5;21mdmp_primitive\u001b[39m(f, u, K):\n\u001b[1;32m   1824\u001b[0m \u001b[38;5;250m    \u001b[39m\u001b[38;5;124;03m\"\"\"\u001b[39;00m\n\u001b[1;32m   1825\u001b[0m \u001b[38;5;124;03m    Returns multivariate content and a primitive polynomial.\u001b[39;00m\n\u001b[1;32m   1826\u001b[0m \n\u001b[0;32m   (...)\u001b[0m\n\u001b[1;32m   1835\u001b[0m \n\u001b[1;32m   1836\u001b[0m \u001b[38;5;124;03m    \"\"\"\u001b[39;00m\n\u001b[0;32m-> 1837\u001b[0m     cont, v \u001b[38;5;241m=\u001b[39m dmp_content(f, u, K), u \u001b[38;5;241m-\u001b[39m \u001b[38;5;241m1\u001b[39m\n\u001b[1;32m   1839\u001b[0m     \u001b[38;5;28;01mif\u001b[39;00m dmp_zero_p(f, u) \u001b[38;5;129;01mor\u001b[39;00m dmp_one_p(cont, v, K):\n\u001b[1;32m   1840\u001b[0m         \u001b[38;5;28;01mreturn\u001b[39;00m cont, f\n",
      "File \u001b[0;32m~/miniconda3/lib/python3.12/site-packages/sympy/polys/euclidtools.py:1812\u001b[0m, in \u001b[0;36mdmp_content\u001b[0;34m(f, u, K)\u001b[0m\n\u001b[1;32m   1809\u001b[0m     \u001b[38;5;28;01mreturn\u001b[39;00m cont\n\u001b[1;32m   1811\u001b[0m \u001b[38;5;28;01mfor\u001b[39;00m c \u001b[38;5;129;01min\u001b[39;00m f[\u001b[38;5;241m1\u001b[39m:]:\n\u001b[0;32m-> 1812\u001b[0m     cont \u001b[38;5;241m=\u001b[39m dmp_gcd(cont, c, v, K)\n\u001b[1;32m   1814\u001b[0m     \u001b[38;5;28;01mif\u001b[39;00m dmp_one_p(cont, v, K):\n\u001b[1;32m   1815\u001b[0m         \u001b[38;5;28;01mbreak\u001b[39;00m\n",
      "File \u001b[0;32m~/miniconda3/lib/python3.12/site-packages/sympy/polys/euclidtools.py:1639\u001b[0m, in \u001b[0;36mdmp_gcd\u001b[0;34m(f, g, u, K)\u001b[0m\n\u001b[1;32m   1622\u001b[0m \u001b[38;5;28;01mdef\u001b[39;00m \u001b[38;5;21mdmp_gcd\u001b[39m(f, g, u, K):\n\u001b[1;32m   1623\u001b[0m \u001b[38;5;250m    \u001b[39m\u001b[38;5;124;03m\"\"\"\u001b[39;00m\n\u001b[1;32m   1624\u001b[0m \u001b[38;5;124;03m    Computes polynomial GCD of `f` and `g` in `K[X]`.\u001b[39;00m\n\u001b[1;32m   1625\u001b[0m \n\u001b[0;32m   (...)\u001b[0m\n\u001b[1;32m   1637\u001b[0m \n\u001b[1;32m   1638\u001b[0m \u001b[38;5;124;03m    \"\"\"\u001b[39;00m\n\u001b[0;32m-> 1639\u001b[0m     \u001b[38;5;28;01mreturn\u001b[39;00m dmp_inner_gcd(f, g, u, K)[\u001b[38;5;241m0\u001b[39m]\n",
      "File \u001b[0;32m~/miniconda3/lib/python3.12/site-packages/sympy/polys/euclidtools.py:1598\u001b[0m, in \u001b[0;36mdmp_inner_gcd\u001b[0;34m(f, g, u, K)\u001b[0m\n\u001b[1;32m   1595\u001b[0m     \u001b[38;5;28;01mreturn\u001b[39;00m dup_inner_gcd(f, g, K)\n\u001b[1;32m   1597\u001b[0m J, (f, g) \u001b[38;5;241m=\u001b[39m dmp_multi_deflate((f, g), u, K)\n\u001b[0;32m-> 1598\u001b[0m h, cff, cfg \u001b[38;5;241m=\u001b[39m _dmp_inner_gcd(f, g, u, K)\n\u001b[1;32m   1600\u001b[0m \u001b[38;5;28;01mreturn\u001b[39;00m (dmp_inflate(h, J, u, K),\n\u001b[1;32m   1601\u001b[0m         dmp_inflate(cff, J, u, K),\n\u001b[1;32m   1602\u001b[0m         dmp_inflate(cfg, J, u, K))\n",
      "File \u001b[0;32m~/miniconda3/lib/python3.12/site-packages/sympy/polys/euclidtools.py:1571\u001b[0m, in \u001b[0;36m_dmp_inner_gcd\u001b[0;34m(f, g, u, K)\u001b[0m\n\u001b[1;32m   1568\u001b[0m     \u001b[38;5;28;01mexcept\u001b[39;00m HeuristicGCDFailed:\n\u001b[1;32m   1569\u001b[0m         \u001b[38;5;28;01mpass\u001b[39;00m\n\u001b[0;32m-> 1571\u001b[0m \u001b[38;5;28;01mreturn\u001b[39;00m dmp_rr_prs_gcd(f, g, u, K)\n",
      "File \u001b[0;32m~/miniconda3/lib/python3.12/site-packages/sympy/polys/euclidtools.py:1060\u001b[0m, in \u001b[0;36mdmp_rr_prs_gcd\u001b[0;34m(f, g, u, K)\u001b[0m\n\u001b[1;32m   1057\u001b[0m \u001b[38;5;28;01mif\u001b[39;00m \u001b[38;5;129;01mnot\u001b[39;00m u:\n\u001b[1;32m   1058\u001b[0m     \u001b[38;5;28;01mreturn\u001b[39;00m dup_rr_prs_gcd(f, g, K)\n\u001b[0;32m-> 1060\u001b[0m result \u001b[38;5;241m=\u001b[39m _dmp_rr_trivial_gcd(f, g, u, K)\n\u001b[1;32m   1062\u001b[0m \u001b[38;5;28;01mif\u001b[39;00m result \u001b[38;5;129;01mis\u001b[39;00m \u001b[38;5;129;01mnot\u001b[39;00m \u001b[38;5;28;01mNone\u001b[39;00m:\n\u001b[1;32m   1063\u001b[0m     \u001b[38;5;28;01mreturn\u001b[39;00m result\n",
      "File \u001b[0;32m~/miniconda3/lib/python3.12/site-packages/sympy/polys/euclidtools.py:912\u001b[0m, in \u001b[0;36m_dmp_rr_trivial_gcd\u001b[0;34m(f, g, u, K)\u001b[0m\n\u001b[1;32m    910\u001b[0m     \u001b[38;5;28;01mreturn\u001b[39;00m dmp_one(u, K), f, g\n\u001b[1;32m    911\u001b[0m \u001b[38;5;28;01melif\u001b[39;00m query(\u001b[38;5;124m'\u001b[39m\u001b[38;5;124mUSE_SIMPLIFY_GCD\u001b[39m\u001b[38;5;124m'\u001b[39m):\n\u001b[0;32m--> 912\u001b[0m     \u001b[38;5;28;01mreturn\u001b[39;00m _dmp_simplify_gcd(f, g, u, K)\n\u001b[1;32m    913\u001b[0m \u001b[38;5;28;01melse\u001b[39;00m:\n\u001b[1;32m    914\u001b[0m     \u001b[38;5;28;01mreturn\u001b[39;00m \u001b[38;5;28;01mNone\u001b[39;00m\n",
      "File \u001b[0;32m~/miniconda3/lib/python3.12/site-packages/sympy/polys/euclidtools.py:958\u001b[0m, in \u001b[0;36m_dmp_simplify_gcd\u001b[0;34m(f, g, u, K)\u001b[0m\n\u001b[1;32m    955\u001b[0m         G \u001b[38;5;241m=\u001b[39m dmp_LC(g, K)\n\u001b[1;32m    957\u001b[0m v \u001b[38;5;241m=\u001b[39m u \u001b[38;5;241m-\u001b[39m \u001b[38;5;241m1\u001b[39m\n\u001b[0;32m--> 958\u001b[0m h \u001b[38;5;241m=\u001b[39m dmp_gcd(F, G, v, K)\n\u001b[1;32m    960\u001b[0m cff \u001b[38;5;241m=\u001b[39m [ dmp_quo(cf, h, v, K) \u001b[38;5;28;01mfor\u001b[39;00m cf \u001b[38;5;129;01min\u001b[39;00m f ]\n\u001b[1;32m    961\u001b[0m cfg \u001b[38;5;241m=\u001b[39m [ dmp_quo(cg, h, v, K) \u001b[38;5;28;01mfor\u001b[39;00m cg \u001b[38;5;129;01min\u001b[39;00m g ]\n",
      "File \u001b[0;32m~/miniconda3/lib/python3.12/site-packages/sympy/polys/euclidtools.py:1639\u001b[0m, in \u001b[0;36mdmp_gcd\u001b[0;34m(f, g, u, K)\u001b[0m\n\u001b[1;32m   1622\u001b[0m \u001b[38;5;28;01mdef\u001b[39;00m \u001b[38;5;21mdmp_gcd\u001b[39m(f, g, u, K):\n\u001b[1;32m   1623\u001b[0m \u001b[38;5;250m    \u001b[39m\u001b[38;5;124;03m\"\"\"\u001b[39;00m\n\u001b[1;32m   1624\u001b[0m \u001b[38;5;124;03m    Computes polynomial GCD of `f` and `g` in `K[X]`.\u001b[39;00m\n\u001b[1;32m   1625\u001b[0m \n\u001b[0;32m   (...)\u001b[0m\n\u001b[1;32m   1637\u001b[0m \n\u001b[1;32m   1638\u001b[0m \u001b[38;5;124;03m    \"\"\"\u001b[39;00m\n\u001b[0;32m-> 1639\u001b[0m     \u001b[38;5;28;01mreturn\u001b[39;00m dmp_inner_gcd(f, g, u, K)[\u001b[38;5;241m0\u001b[39m]\n",
      "File \u001b[0;32m~/miniconda3/lib/python3.12/site-packages/sympy/polys/euclidtools.py:1598\u001b[0m, in \u001b[0;36mdmp_inner_gcd\u001b[0;34m(f, g, u, K)\u001b[0m\n\u001b[1;32m   1595\u001b[0m     \u001b[38;5;28;01mreturn\u001b[39;00m dup_inner_gcd(f, g, K)\n\u001b[1;32m   1597\u001b[0m J, (f, g) \u001b[38;5;241m=\u001b[39m dmp_multi_deflate((f, g), u, K)\n\u001b[0;32m-> 1598\u001b[0m h, cff, cfg \u001b[38;5;241m=\u001b[39m _dmp_inner_gcd(f, g, u, K)\n\u001b[1;32m   1600\u001b[0m \u001b[38;5;28;01mreturn\u001b[39;00m (dmp_inflate(h, J, u, K),\n\u001b[1;32m   1601\u001b[0m         dmp_inflate(cff, J, u, K),\n\u001b[1;32m   1602\u001b[0m         dmp_inflate(cfg, J, u, K))\n",
      "File \u001b[0;32m~/miniconda3/lib/python3.12/site-packages/sympy/polys/euclidtools.py:1571\u001b[0m, in \u001b[0;36m_dmp_inner_gcd\u001b[0;34m(f, g, u, K)\u001b[0m\n\u001b[1;32m   1568\u001b[0m     \u001b[38;5;28;01mexcept\u001b[39;00m HeuristicGCDFailed:\n\u001b[1;32m   1569\u001b[0m         \u001b[38;5;28;01mpass\u001b[39;00m\n\u001b[0;32m-> 1571\u001b[0m \u001b[38;5;28;01mreturn\u001b[39;00m dmp_rr_prs_gcd(f, g, u, K)\n",
      "File \u001b[0;32m~/miniconda3/lib/python3.12/site-packages/sympy/polys/euclidtools.py:1060\u001b[0m, in \u001b[0;36mdmp_rr_prs_gcd\u001b[0;34m(f, g, u, K)\u001b[0m\n\u001b[1;32m   1057\u001b[0m \u001b[38;5;28;01mif\u001b[39;00m \u001b[38;5;129;01mnot\u001b[39;00m u:\n\u001b[1;32m   1058\u001b[0m     \u001b[38;5;28;01mreturn\u001b[39;00m dup_rr_prs_gcd(f, g, K)\n\u001b[0;32m-> 1060\u001b[0m result \u001b[38;5;241m=\u001b[39m _dmp_rr_trivial_gcd(f, g, u, K)\n\u001b[1;32m   1062\u001b[0m \u001b[38;5;28;01mif\u001b[39;00m result \u001b[38;5;129;01mis\u001b[39;00m \u001b[38;5;129;01mnot\u001b[39;00m \u001b[38;5;28;01mNone\u001b[39;00m:\n\u001b[1;32m   1063\u001b[0m     \u001b[38;5;28;01mreturn\u001b[39;00m result\n",
      "File \u001b[0;32m~/miniconda3/lib/python3.12/site-packages/sympy/polys/euclidtools.py:912\u001b[0m, in \u001b[0;36m_dmp_rr_trivial_gcd\u001b[0;34m(f, g, u, K)\u001b[0m\n\u001b[1;32m    910\u001b[0m     \u001b[38;5;28;01mreturn\u001b[39;00m dmp_one(u, K), f, g\n\u001b[1;32m    911\u001b[0m \u001b[38;5;28;01melif\u001b[39;00m query(\u001b[38;5;124m'\u001b[39m\u001b[38;5;124mUSE_SIMPLIFY_GCD\u001b[39m\u001b[38;5;124m'\u001b[39m):\n\u001b[0;32m--> 912\u001b[0m     \u001b[38;5;28;01mreturn\u001b[39;00m _dmp_simplify_gcd(f, g, u, K)\n\u001b[1;32m    913\u001b[0m \u001b[38;5;28;01melse\u001b[39;00m:\n\u001b[1;32m    914\u001b[0m     \u001b[38;5;28;01mreturn\u001b[39;00m \u001b[38;5;28;01mNone\u001b[39;00m\n",
      "File \u001b[0;32m~/miniconda3/lib/python3.12/site-packages/sympy/polys/euclidtools.py:958\u001b[0m, in \u001b[0;36m_dmp_simplify_gcd\u001b[0;34m(f, g, u, K)\u001b[0m\n\u001b[1;32m    955\u001b[0m         G \u001b[38;5;241m=\u001b[39m dmp_LC(g, K)\n\u001b[1;32m    957\u001b[0m v \u001b[38;5;241m=\u001b[39m u \u001b[38;5;241m-\u001b[39m \u001b[38;5;241m1\u001b[39m\n\u001b[0;32m--> 958\u001b[0m h \u001b[38;5;241m=\u001b[39m dmp_gcd(F, G, v, K)\n\u001b[1;32m    960\u001b[0m cff \u001b[38;5;241m=\u001b[39m [ dmp_quo(cf, h, v, K) \u001b[38;5;28;01mfor\u001b[39;00m cf \u001b[38;5;129;01min\u001b[39;00m f ]\n\u001b[1;32m    961\u001b[0m cfg \u001b[38;5;241m=\u001b[39m [ dmp_quo(cg, h, v, K) \u001b[38;5;28;01mfor\u001b[39;00m cg \u001b[38;5;129;01min\u001b[39;00m g ]\n",
      "File \u001b[0;32m~/miniconda3/lib/python3.12/site-packages/sympy/polys/euclidtools.py:1639\u001b[0m, in \u001b[0;36mdmp_gcd\u001b[0;34m(f, g, u, K)\u001b[0m\n\u001b[1;32m   1622\u001b[0m \u001b[38;5;28;01mdef\u001b[39;00m \u001b[38;5;21mdmp_gcd\u001b[39m(f, g, u, K):\n\u001b[1;32m   1623\u001b[0m \u001b[38;5;250m    \u001b[39m\u001b[38;5;124;03m\"\"\"\u001b[39;00m\n\u001b[1;32m   1624\u001b[0m \u001b[38;5;124;03m    Computes polynomial GCD of `f` and `g` in `K[X]`.\u001b[39;00m\n\u001b[1;32m   1625\u001b[0m \n\u001b[0;32m   (...)\u001b[0m\n\u001b[1;32m   1637\u001b[0m \n\u001b[1;32m   1638\u001b[0m \u001b[38;5;124;03m    \"\"\"\u001b[39;00m\n\u001b[0;32m-> 1639\u001b[0m     \u001b[38;5;28;01mreturn\u001b[39;00m dmp_inner_gcd(f, g, u, K)[\u001b[38;5;241m0\u001b[39m]\n",
      "File \u001b[0;32m~/miniconda3/lib/python3.12/site-packages/sympy/polys/euclidtools.py:1598\u001b[0m, in \u001b[0;36mdmp_inner_gcd\u001b[0;34m(f, g, u, K)\u001b[0m\n\u001b[1;32m   1595\u001b[0m     \u001b[38;5;28;01mreturn\u001b[39;00m dup_inner_gcd(f, g, K)\n\u001b[1;32m   1597\u001b[0m J, (f, g) \u001b[38;5;241m=\u001b[39m dmp_multi_deflate((f, g), u, K)\n\u001b[0;32m-> 1598\u001b[0m h, cff, cfg \u001b[38;5;241m=\u001b[39m _dmp_inner_gcd(f, g, u, K)\n\u001b[1;32m   1600\u001b[0m \u001b[38;5;28;01mreturn\u001b[39;00m (dmp_inflate(h, J, u, K),\n\u001b[1;32m   1601\u001b[0m         dmp_inflate(cff, J, u, K),\n\u001b[1;32m   1602\u001b[0m         dmp_inflate(cfg, J, u, K))\n",
      "File \u001b[0;32m~/miniconda3/lib/python3.12/site-packages/sympy/polys/euclidtools.py:1571\u001b[0m, in \u001b[0;36m_dmp_inner_gcd\u001b[0;34m(f, g, u, K)\u001b[0m\n\u001b[1;32m   1568\u001b[0m     \u001b[38;5;28;01mexcept\u001b[39;00m HeuristicGCDFailed:\n\u001b[1;32m   1569\u001b[0m         \u001b[38;5;28;01mpass\u001b[39;00m\n\u001b[0;32m-> 1571\u001b[0m \u001b[38;5;28;01mreturn\u001b[39;00m dmp_rr_prs_gcd(f, g, u, K)\n",
      "File \u001b[0;32m~/miniconda3/lib/python3.12/site-packages/sympy/polys/euclidtools.py:1068\u001b[0m, in \u001b[0;36mdmp_rr_prs_gcd\u001b[0;34m(f, g, u, K)\u001b[0m\n\u001b[1;32m   1065\u001b[0m fc, F \u001b[38;5;241m=\u001b[39m dmp_primitive(f, u, K)\n\u001b[1;32m   1066\u001b[0m gc, G \u001b[38;5;241m=\u001b[39m dmp_primitive(g, u, K)\n\u001b[0;32m-> 1068\u001b[0m h \u001b[38;5;241m=\u001b[39m dmp_subresultants(F, G, u, K)[\u001b[38;5;241m-\u001b[39m\u001b[38;5;241m1\u001b[39m]\n\u001b[1;32m   1069\u001b[0m c, _, _ \u001b[38;5;241m=\u001b[39m dmp_rr_prs_gcd(fc, gc, u \u001b[38;5;241m-\u001b[39m \u001b[38;5;241m1\u001b[39m, K)\n\u001b[1;32m   1071\u001b[0m _, h \u001b[38;5;241m=\u001b[39m dmp_primitive(h, u, K)\n",
      "File \u001b[0;32m~/miniconda3/lib/python3.12/site-packages/sympy/polys/euclidtools.py:549\u001b[0m, in \u001b[0;36mdmp_subresultants\u001b[0;34m(f, g, u, K)\u001b[0m\n\u001b[1;32m    529\u001b[0m \u001b[38;5;28;01mdef\u001b[39;00m \u001b[38;5;21mdmp_subresultants\u001b[39m(f, g, u, K):\n\u001b[1;32m    530\u001b[0m \u001b[38;5;250m    \u001b[39m\u001b[38;5;124;03m\"\"\"\u001b[39;00m\n\u001b[1;32m    531\u001b[0m \u001b[38;5;124;03m    Computes subresultant PRS of two polynomials in `K[X]`.\u001b[39;00m\n\u001b[1;32m    532\u001b[0m \n\u001b[0;32m   (...)\u001b[0m\n\u001b[1;32m    547\u001b[0m \n\u001b[1;32m    548\u001b[0m \u001b[38;5;124;03m    \"\"\"\u001b[39;00m\n\u001b[0;32m--> 549\u001b[0m     \u001b[38;5;28;01mreturn\u001b[39;00m dmp_inner_subresultants(f, g, u, K)[\u001b[38;5;241m0\u001b[39m]\n",
      "File \u001b[0;32m~/miniconda3/lib/python3.12/site-packages/sympy/polys/euclidtools.py:512\u001b[0m, in \u001b[0;36mdmp_inner_subresultants\u001b[0;34m(f, g, u, K)\u001b[0m\n\u001b[1;32m    507\u001b[0m f, g, m, d \u001b[38;5;241m=\u001b[39m g, h, k, m \u001b[38;5;241m-\u001b[39m k\n\u001b[1;32m    509\u001b[0m b \u001b[38;5;241m=\u001b[39m dmp_mul(dmp_neg(lc, v, K),\n\u001b[1;32m    510\u001b[0m             dmp_pow(c, d, v, K), v, K)\n\u001b[0;32m--> 512\u001b[0m h \u001b[38;5;241m=\u001b[39m dmp_prem(f, g, u, K)\n\u001b[1;32m    513\u001b[0m h \u001b[38;5;241m=\u001b[39m [ dmp_quo(ch, b, v, K) \u001b[38;5;28;01mfor\u001b[39;00m ch \u001b[38;5;129;01min\u001b[39;00m h ]\n\u001b[1;32m    515\u001b[0m lc \u001b[38;5;241m=\u001b[39m dmp_LC(g, K)\n",
      "File \u001b[0;32m~/miniconda3/lib/python3.12/site-packages/sympy/polys/densearith.py:1237\u001b[0m, in \u001b[0;36mdmp_prem\u001b[0;34m(f, g, u, K)\u001b[0m\n\u001b[1;32m   1234\u001b[0m lc_r \u001b[38;5;241m=\u001b[39m dmp_LC(r, K)\n\u001b[1;32m   1235\u001b[0m j, N \u001b[38;5;241m=\u001b[39m dr \u001b[38;5;241m-\u001b[39m dg, N \u001b[38;5;241m-\u001b[39m \u001b[38;5;241m1\u001b[39m\n\u001b[0;32m-> 1237\u001b[0m R \u001b[38;5;241m=\u001b[39m dmp_mul_term(r, lc_g, \u001b[38;5;241m0\u001b[39m, u, K)\n\u001b[1;32m   1238\u001b[0m G \u001b[38;5;241m=\u001b[39m dmp_mul_term(g, lc_r, j, u, K)\n\u001b[1;32m   1239\u001b[0m r \u001b[38;5;241m=\u001b[39m dmp_sub(R, G, u, K)\n",
      "File \u001b[0;32m~/miniconda3/lib/python3.12/site-packages/sympy/polys/densearith.py:184\u001b[0m, in \u001b[0;36mdmp_mul_term\u001b[0;34m(f, c, i, u, K)\u001b[0m\n\u001b[1;32m    182\u001b[0m     \u001b[38;5;28;01mreturn\u001b[39;00m dmp_zero(u)\n\u001b[1;32m    183\u001b[0m \u001b[38;5;28;01melse\u001b[39;00m:\n\u001b[0;32m--> 184\u001b[0m     \u001b[38;5;28;01mreturn\u001b[39;00m [ dmp_mul(cf, c, v, K) \u001b[38;5;28;01mfor\u001b[39;00m cf \u001b[38;5;129;01min\u001b[39;00m f ] \u001b[38;5;241m+\u001b[39m dmp_zeros(i, v, K)\n",
      "File \u001b[0;32m~/miniconda3/lib/python3.12/site-packages/sympy/polys/densearith.py:828\u001b[0m, in \u001b[0;36mdmp_mul\u001b[0;34m(f, g, u, K)\u001b[0m\n\u001b[1;32m    825\u001b[0m     coeff \u001b[38;5;241m=\u001b[39m dmp_zero(v)\n\u001b[1;32m    827\u001b[0m     \u001b[38;5;28;01mfor\u001b[39;00m j \u001b[38;5;129;01min\u001b[39;00m \u001b[38;5;28mrange\u001b[39m(\u001b[38;5;28mmax\u001b[39m(\u001b[38;5;241m0\u001b[39m, i \u001b[38;5;241m-\u001b[39m dg), \u001b[38;5;28mmin\u001b[39m(df, i) \u001b[38;5;241m+\u001b[39m \u001b[38;5;241m1\u001b[39m):\n\u001b[0;32m--> 828\u001b[0m         coeff \u001b[38;5;241m=\u001b[39m dmp_add(coeff, dmp_mul(f[j], g[i \u001b[38;5;241m-\u001b[39m j], v, K), v, K)\n\u001b[1;32m    830\u001b[0m     h\u001b[38;5;241m.\u001b[39mappend(coeff)\n\u001b[1;32m    832\u001b[0m \u001b[38;5;28;01mreturn\u001b[39;00m dmp_strip(h, u)\n",
      "File \u001b[0;32m~/miniconda3/lib/python3.12/site-packages/sympy/polys/densearith.py:828\u001b[0m, in \u001b[0;36mdmp_mul\u001b[0;34m(f, g, u, K)\u001b[0m\n\u001b[1;32m    825\u001b[0m     coeff \u001b[38;5;241m=\u001b[39m dmp_zero(v)\n\u001b[1;32m    827\u001b[0m     \u001b[38;5;28;01mfor\u001b[39;00m j \u001b[38;5;129;01min\u001b[39;00m \u001b[38;5;28mrange\u001b[39m(\u001b[38;5;28mmax\u001b[39m(\u001b[38;5;241m0\u001b[39m, i \u001b[38;5;241m-\u001b[39m dg), \u001b[38;5;28mmin\u001b[39m(df, i) \u001b[38;5;241m+\u001b[39m \u001b[38;5;241m1\u001b[39m):\n\u001b[0;32m--> 828\u001b[0m         coeff \u001b[38;5;241m=\u001b[39m dmp_add(coeff, dmp_mul(f[j], g[i \u001b[38;5;241m-\u001b[39m j], v, K), v, K)\n\u001b[1;32m    830\u001b[0m     h\u001b[38;5;241m.\u001b[39mappend(coeff)\n\u001b[1;32m    832\u001b[0m \u001b[38;5;28;01mreturn\u001b[39;00m dmp_strip(h, u)\n",
      "File \u001b[0;32m~/miniconda3/lib/python3.12/site-packages/sympy/polys/densearith.py:828\u001b[0m, in \u001b[0;36mdmp_mul\u001b[0;34m(f, g, u, K)\u001b[0m\n\u001b[1;32m    825\u001b[0m     coeff \u001b[38;5;241m=\u001b[39m dmp_zero(v)\n\u001b[1;32m    827\u001b[0m     \u001b[38;5;28;01mfor\u001b[39;00m j \u001b[38;5;129;01min\u001b[39;00m \u001b[38;5;28mrange\u001b[39m(\u001b[38;5;28mmax\u001b[39m(\u001b[38;5;241m0\u001b[39m, i \u001b[38;5;241m-\u001b[39m dg), \u001b[38;5;28mmin\u001b[39m(df, i) \u001b[38;5;241m+\u001b[39m \u001b[38;5;241m1\u001b[39m):\n\u001b[0;32m--> 828\u001b[0m         coeff \u001b[38;5;241m=\u001b[39m dmp_add(coeff, dmp_mul(f[j], g[i \u001b[38;5;241m-\u001b[39m j], v, K), v, K)\n\u001b[1;32m    830\u001b[0m     h\u001b[38;5;241m.\u001b[39mappend(coeff)\n\u001b[1;32m    832\u001b[0m \u001b[38;5;28;01mreturn\u001b[39;00m dmp_strip(h, u)\n",
      "File \u001b[0;32m~/miniconda3/lib/python3.12/site-packages/sympy/polys/densearith.py:807\u001b[0m, in \u001b[0;36mdmp_mul\u001b[0;34m(f, g, u, K)\u001b[0m\n\u001b[1;32m    793\u001b[0m \u001b[38;5;250m\u001b[39m\u001b[38;5;124;03m\"\"\"\u001b[39;00m\n\u001b[1;32m    794\u001b[0m \u001b[38;5;124;03mMultiply dense polynomials in ``K[X]``.\u001b[39;00m\n\u001b[1;32m    795\u001b[0m \n\u001b[0;32m   (...)\u001b[0m\n\u001b[1;32m    804\u001b[0m \n\u001b[1;32m    805\u001b[0m \u001b[38;5;124;03m\"\"\"\u001b[39;00m\n\u001b[1;32m    806\u001b[0m \u001b[38;5;28;01mif\u001b[39;00m \u001b[38;5;129;01mnot\u001b[39;00m u:\n\u001b[0;32m--> 807\u001b[0m     \u001b[38;5;28;01mreturn\u001b[39;00m dup_mul(f, g, K)\n\u001b[1;32m    809\u001b[0m \u001b[38;5;28;01mif\u001b[39;00m f \u001b[38;5;241m==\u001b[39m g:\n\u001b[1;32m    810\u001b[0m     \u001b[38;5;28;01mreturn\u001b[39;00m dmp_sqr(f, u, K)\n",
      "File \u001b[0;32m~/miniconda3/lib/python3.12/site-packages/sympy/polys/densearith.py:766\u001b[0m, in \u001b[0;36mdup_mul\u001b[0;34m(f, g, K)\u001b[0m\n\u001b[1;32m    763\u001b[0m \u001b[38;5;28;01mfor\u001b[39;00m i \u001b[38;5;129;01min\u001b[39;00m \u001b[38;5;28mrange\u001b[39m(\u001b[38;5;241m0\u001b[39m, df \u001b[38;5;241m+\u001b[39m dg \u001b[38;5;241m+\u001b[39m \u001b[38;5;241m1\u001b[39m):\n\u001b[1;32m    764\u001b[0m     coeff \u001b[38;5;241m=\u001b[39m K\u001b[38;5;241m.\u001b[39mzero\n\u001b[0;32m--> 766\u001b[0m     \u001b[38;5;28;01mfor\u001b[39;00m j \u001b[38;5;129;01min\u001b[39;00m \u001b[38;5;28mrange\u001b[39m(\u001b[38;5;28mmax\u001b[39m(\u001b[38;5;241m0\u001b[39m, i \u001b[38;5;241m-\u001b[39m dg), \u001b[38;5;28mmin\u001b[39m(df, i) \u001b[38;5;241m+\u001b[39m \u001b[38;5;241m1\u001b[39m):\n\u001b[1;32m    767\u001b[0m         coeff \u001b[38;5;241m+\u001b[39m\u001b[38;5;241m=\u001b[39m f[j]\u001b[38;5;241m*\u001b[39mg[i \u001b[38;5;241m-\u001b[39m j]\n\u001b[1;32m    769\u001b[0m     h\u001b[38;5;241m.\u001b[39mappend(coeff)\n",
      "\u001b[0;31mKeyboardInterrupt\u001b[0m: "
     ]
    }
   ],
   "source": [
    "s, s0, R0 = sy.symbols(\"s s_0 R_0\")\n",
    "sy.solve(sy.Eq(1-s, (1/sy.sqrt(s/s0) - sy.sqrt(s/s0))/R0), s)"
   ]
  },
  {
   "cell_type": "code",
   "execution_count": 41,
   "id": "6772f519-b918-45cb-aa04-7ae9de77ff6a",
   "metadata": {},
   "outputs": [
    {
     "data": {
      "text/latex": [
       "$\\displaystyle x - \\frac{x^{3}}{24} + \\frac{3 x^{5}}{640} - \\frac{5 x^{7}}{7168} + \\frac{35 x^{9}}{294912} + O\\left(x^{10}\\right)$"
      ],
      "text/plain": [
       "x - x**3/24 + 3*x**5/640 - 5*x**7/7168 + 35*x**9/294912 + O(x**10)"
      ]
     },
     "execution_count": 41,
     "metadata": {},
     "output_type": "execute_result"
    }
   ],
   "source": [
    "x, e = sy.symbols(\"x epsilon\")\n",
    "sy.series(2*sy.asinh(x/2),x,0,10)"
   ]
  },
  {
   "cell_type": "code",
   "execution_count": 42,
   "id": "99f1b17c-5fd6-42f9-9497-99092ef8f719",
   "metadata": {},
   "outputs": [
    {
     "data": {
      "text/latex": [
       "$\\displaystyle 1 + \\frac{x^{2}}{2} - \\frac{x^{4}}{8} + \\frac{x^{6}}{16} - \\frac{5 x^{8}}{128} + O\\left(x^{10}\\right)$"
      ],
      "text/plain": [
       "1 + x**2/2 - x**4/8 + x**6/16 - 5*x**8/128 + O(x**10)"
      ]
     },
     "execution_count": 42,
     "metadata": {},
     "output_type": "execute_result"
    }
   ],
   "source": [
    "sy.series(sy.sqrt(x**2 + 1),x,0,10)"
   ]
  },
  {
   "cell_type": "code",
   "execution_count": null,
   "id": "9b62c875-5708-4bd1-bd12-a30ce35140cf",
   "metadata": {},
   "outputs": [],
   "source": []
  }
 ],
 "metadata": {
  "kernelspec": {
   "display_name": "Python 3 (ipykernel)",
   "language": "python",
   "name": "python3"
  },
  "language_info": {
   "codemirror_mode": {
    "name": "ipython",
    "version": 3
   },
   "file_extension": ".py",
   "mimetype": "text/x-python",
   "name": "python",
   "nbconvert_exporter": "python",
   "pygments_lexer": "ipython3",
   "version": "3.12.8"
  }
 },
 "nbformat": 4,
 "nbformat_minor": 5
}
